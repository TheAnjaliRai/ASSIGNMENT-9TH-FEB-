{
 "cells": [
  {
   "cell_type": "code",
   "execution_count": 3,
   "id": "bc736804",
   "metadata": {},
   "outputs": [],
   "source": [
    "#ques1\n",
    "class vehicle:\n",
    "    def __init__(self, name_of_vehicle , max_speed , average_of_vehicle):\n",
    "        self.name_of_vehicle = name_of_vehicle\n",
    "        self.max_speed = max_speed\n",
    "        self.average_of_vehicle = average_of_vehicle\n",
    "vehicle1 = vehicle(\"mini cooper\" , 200 , 4000000)   "
   ]
  },
  {
   "cell_type": "code",
   "execution_count": 5,
   "id": "ac74b356",
   "metadata": {},
   "outputs": [
    {
     "data": {
      "text/plain": [
       "4000000"
      ]
     },
     "execution_count": 5,
     "metadata": {},
     "output_type": "execute_result"
    }
   ],
   "source": [
    "vehicle1.average_of_vehicle"
   ]
  },
  {
   "cell_type": "code",
   "execution_count": 7,
   "id": "6c856b8e",
   "metadata": {},
   "outputs": [],
   "source": [
    "#ques2\n",
    "class child_class_car(vehicle):\n",
    "    def seating_capacity(self , capacity):\n",
    "        self.capacity = capacity\n",
    "        return self.name_of_vehicle , capacity"
   ]
  },
  {
   "cell_type": "code",
   "execution_count": 10,
   "id": "6c8b8f27",
   "metadata": {},
   "outputs": [],
   "source": [
    "vehicle2 = child_class_car(\"mini cooper\" , 200 , 4000000)"
   ]
  },
  {
   "cell_type": "code",
   "execution_count": 11,
   "id": "99f6f7ae",
   "metadata": {},
   "outputs": [
    {
     "data": {
      "text/plain": [
       "('mini cooper', 2)"
      ]
     },
     "execution_count": 11,
     "metadata": {},
     "output_type": "execute_result"
    }
   ],
   "source": [
    "vehicle2.seating_capacity(2)"
   ]
  },
  {
   "cell_type": "code",
   "execution_count": 12,
   "id": "ef9bac10",
   "metadata": {},
   "outputs": [],
   "source": [
    "#ques3\n",
    "# in which class3 has the property of both class1 and class2\n",
    "# mutiple inheritance\n",
    "class papa:\n",
    "    def func1(self):\n",
    "        return \"characteristics of father\"\n",
    "class mama:\n",
    "    def func2(self):\n",
    "        return \"characteristics of mother\"\n",
    "class child(papa,mama):\n",
    "    pass"
   ]
  },
  {
   "cell_type": "code",
   "execution_count": 13,
   "id": "c3dd61c5",
   "metadata": {},
   "outputs": [],
   "source": [
    "anjali = child()"
   ]
  },
  {
   "cell_type": "code",
   "execution_count": 15,
   "id": "9be1c015",
   "metadata": {},
   "outputs": [
    {
     "data": {
      "text/plain": [
       "'characteristics of father'"
      ]
     },
     "execution_count": 15,
     "metadata": {},
     "output_type": "execute_result"
    }
   ],
   "source": [
    "anjali.func1()"
   ]
  },
  {
   "cell_type": "code",
   "execution_count": 16,
   "id": "b1bd9121",
   "metadata": {},
   "outputs": [
    {
     "data": {
      "text/plain": [
       "'characteristics of mother'"
      ]
     },
     "execution_count": 16,
     "metadata": {},
     "output_type": "execute_result"
    }
   ],
   "source": [
    "anjali.func2()"
   ]
  },
  {
   "cell_type": "code",
   "execution_count": 17,
   "id": "53a2136f",
   "metadata": {},
   "outputs": [],
   "source": [
    "# ques4\n",
    "# getter method = allows you to have access an attribute in a given class\n",
    "# setter method = allows you to to set or mutate te value of an attribute in a class"
   ]
  },
  {
   "cell_type": "code",
   "execution_count": 18,
   "id": "1307de25",
   "metadata": {},
   "outputs": [],
   "source": [
    "class subject:\n",
    "    def __init__(self , name):\n",
    "        self._name = name\n",
    "    def get_name(self):\n",
    "        return self._name\n",
    "    def set_name(self, value):\n",
    "        self._name = value"
   ]
  },
  {
   "cell_type": "code",
   "execution_count": 20,
   "id": "25cc41c5",
   "metadata": {},
   "outputs": [],
   "source": [
    "sub1 = subject(\"science\")"
   ]
  },
  {
   "cell_type": "code",
   "execution_count": 21,
   "id": "251ffae5",
   "metadata": {},
   "outputs": [
    {
     "data": {
      "text/plain": [
       "'science'"
      ]
     },
     "execution_count": 21,
     "metadata": {},
     "output_type": "execute_result"
    }
   ],
   "source": [
    "sub1.get_name()"
   ]
  },
  {
   "cell_type": "code",
   "execution_count": 22,
   "id": "51ab4765",
   "metadata": {},
   "outputs": [],
   "source": [
    "sub1.set_name(\"maths\")"
   ]
  },
  {
   "cell_type": "code",
   "execution_count": 23,
   "id": "eea5f846",
   "metadata": {},
   "outputs": [
    {
     "data": {
      "text/plain": [
       "'maths'"
      ]
     },
     "execution_count": 23,
     "metadata": {},
     "output_type": "execute_result"
    }
   ],
   "source": [
    "sub1.get_name()"
   ]
  },
  {
   "cell_type": "code",
   "execution_count": 24,
   "id": "9437abba",
   "metadata": {},
   "outputs": [],
   "source": [
    "#ques5 method overring in python"
   ]
  },
  {
   "cell_type": "code",
   "execution_count": 25,
   "id": "5b8c02c4",
   "metadata": {},
   "outputs": [
    {
     "data": {
      "text/plain": [
       "'it is an ability of any oop that allows a subclass or child class to provide a specific implementation of a method that is already provided by\\none of its super class or parent class'"
      ]
     },
     "execution_count": 25,
     "metadata": {},
     "output_type": "execute_result"
    }
   ],
   "source": [
    "'''it is an ability of any oop that allows a subclass or child class to provide a specific implementation of a method that is already provided by\n",
    "one of its super class or parent class'''"
   ]
  },
  {
   "cell_type": "code",
   "execution_count": 27,
   "id": "cdf646d9",
   "metadata": {},
   "outputs": [],
   "source": [
    "class parent:\n",
    "    def __init__(self):\n",
    "        self.value = \"parent function\"\n",
    "    def show(self):\n",
    "        print(self.value)\n",
    "class child(parent):\n",
    "    def __init__(self):\n",
    "        self.value = \"child function\"\n",
    "    def show(self):\n",
    "        print(self.value)"
   ]
  },
  {
   "cell_type": "code",
   "execution_count": 28,
   "id": "d56e8584",
   "metadata": {},
   "outputs": [],
   "source": [
    "obj1 = child()"
   ]
  },
  {
   "cell_type": "code",
   "execution_count": 29,
   "id": "d61e412a",
   "metadata": {},
   "outputs": [],
   "source": [
    "obj2 = parent()"
   ]
  },
  {
   "cell_type": "code",
   "execution_count": 30,
   "id": "330926a5",
   "metadata": {},
   "outputs": [
    {
     "name": "stdout",
     "output_type": "stream",
     "text": [
      "child function\n"
     ]
    }
   ],
   "source": [
    "obj1.show()"
   ]
  },
  {
   "cell_type": "code",
   "execution_count": 31,
   "id": "bbf55b2a",
   "metadata": {},
   "outputs": [
    {
     "name": "stdout",
     "output_type": "stream",
     "text": [
      "parent function\n"
     ]
    }
   ],
   "source": [
    "obj2.show()"
   ]
  },
  {
   "cell_type": "code",
   "execution_count": null,
   "id": "595bb69c",
   "metadata": {},
   "outputs": [],
   "source": []
  }
 ],
 "metadata": {
  "kernelspec": {
   "display_name": "Python 3 (ipykernel)",
   "language": "python",
   "name": "python3"
  },
  "language_info": {
   "codemirror_mode": {
    "name": "ipython",
    "version": 3
   },
   "file_extension": ".py",
   "mimetype": "text/x-python",
   "name": "python",
   "nbconvert_exporter": "python",
   "pygments_lexer": "ipython3",
   "version": "3.9.12"
  }
 },
 "nbformat": 4,
 "nbformat_minor": 5
}
